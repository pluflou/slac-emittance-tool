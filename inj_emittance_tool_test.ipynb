{
 "cells": [
  {
   "cell_type": "code",
   "execution_count": 20,
   "id": "8cbe33f6-a7eb-44c5-adfb-2fa7b09069d5",
   "metadata": {},
   "outputs": [
    {
     "name": "stdout",
     "output_type": "stream",
     "text": [
      "did not import epics\n"
     ]
    }
   ],
   "source": [
    "import numpy as np\n",
    "import sys\n",
    "import json\n",
    "import time\n",
    "import datetime\n",
    "\n",
    "import scipy.io\n",
    "import scipy.ndimage as snd\n",
    "from scipy.stats import moment\n",
    "from scipy.optimize import curve_fit\n",
    "\n",
    "try:\n",
    "    from epics import caget, caput\n",
    "except:\n",
    "    print(\"did not import epics\")\n",
    "    \n",
    "from image import Image\n",
    "from emittance_calc import get_normemit\n",
    "\n",
    "import matplotlib.pyplot as plt"
   ]
  },
  {
   "cell_type": "code",
   "execution_count": null,
   "id": "626a6f10-bc6a-4911-a30e-26effca79c33",
   "metadata": {},
   "outputs": [],
   "source": [
    "# get PV info\n",
    "pv_info = json.load(open('pv_info.json'))\n",
    "\n",
    "im_pv = pv_info['device']['OTR2']['image']\n",
    "n_col_pv = pv_info['device']['OTR2']['ncol']\n",
    "n_row_pv = pv_info['device']['OTR2']['nrow']\n",
    "\n",
    "meas_input = pv_info['device']['QUAD']['Q525']\n",
    "varx_pv = pv_info['device']['SOL']['SOL121']\n",
    "vary_pv = pv_info['device']['QUAD']['Q121']\n",
    "varz_pv = pv_info['device']['QUAD']['Q122']\n",
    "\n",
    "energy = caget(pv_info['energy']['DL1'])\n",
    "resolution = caget(pv_info['device']['OTR2']['resolution'])*1e-6"
   ]
  },
  {
   "cell_type": "code",
   "execution_count": 26,
   "id": "535169c9-29fb-46ea-ae4e-b0aed3405789",
   "metadata": {},
   "outputs": [],
   "source": [
    "# change quad function\n",
    "def setquad(value):\n",
    "    \"\"\"Sets Q525 to new scan value\"\"\"\n",
    "    caput(meas_input, value)\n",
    "    \n",
    "def saveimage(im, ncol, nrow):\n",
    "    timestamp = (datetime.datetime.now()).strftime(\"%m-%d_%H-%M-%S\")\n",
    "    np.save(f'./saved_images/img_{timestamp}.npy', im)\n",
    "    np.save(f'./saved_images/ncol_{timestamp}.npy', ncol)\n",
    "    np.save(f'./saved_images/nrow_{timestamp}.npy', nrow)\n",
    "    \n",
    "# get beamsizes function at current quad setting\n",
    "def getbeamsizes():\n",
    "    \"\"\"Returns xrms, yrms, xrms_err, yrms_err\"\"\"\n",
    "    im, ncol, nrow = caget(im_pv), caget(n_col_pv), caget(n_row_pv)\n",
    "    \n",
    "    saveimage(im, ncol,nrow)\n",
    "    \n",
    "    beam_image = Image(im, ncol, nrow, bg_image = None)\n",
    "    beam_image.reshape_im()\n",
    "    beam_image.subtract_bg()\n",
    "    beam_image.get_im_projection()\n",
    "    return beam_image.get_sizes(show_plots=True)"
   ]
  },
  {
   "cell_type": "code",
   "execution_count": 9,
   "id": "40f55d04-a84d-450a-bcbf-36c78dbb7250",
   "metadata": {},
   "outputs": [],
   "source": [
    "# example quad list\n",
    "quad_list = [-5, -4, -3, -2]\n",
    "xrms_list = []\n",
    "yrms_list = []\n",
    "\n",
    "for quad in quad_list:\n",
    "    setquad(quad)\n",
    "    time.sleep(3)\n",
    "    beamsizes = getbeamsizes()[0:2]*resolution #convert to meters\n",
    "    xrms_list.append(beamsizes[0])\n",
    "    yrms_list.append(beamsizes[1])\n",
    "\n",
    "# Compute and return emittance using quad_list and beamsizes_list\n",
    "emittance = get_normemit(energy, quad_list, xrms, yrms, show_plots=False)\n",
    "print(emittance/1e-6)"
   ]
  },
  {
   "cell_type": "markdown",
   "id": "01401758-9f6a-4f4c-aad6-09db6d79323c",
   "metadata": {},
   "source": [
    "## Backup option to get beamsizes"
   ]
  },
  {
   "cell_type": "code",
   "execution_count": null,
   "id": "af4b6680-4bfc-4422-88f5-a5d08eab5717",
   "metadata": {},
   "outputs": [],
   "source": [
    "# open ProfMon GUI and select \"show stats\"\n",
    "xrms_profmon = caget('OTRS:IN20:571:XRMS')\n",
    "yrms_profmon = caget('OTRS:IN20:571:YRMS')"
   ]
  }
 ],
 "metadata": {
  "kernelspec": {
   "display_name": "baxenv",
   "language": "python",
   "name": "baxenv"
  },
  "language_info": {
   "codemirror_mode": {
    "name": "ipython",
    "version": 3
   },
   "file_extension": ".py",
   "mimetype": "text/x-python",
   "name": "python",
   "nbconvert_exporter": "python",
   "pygments_lexer": "ipython3",
   "version": "3.8.10"
  }
 },
 "nbformat": 4,
 "nbformat_minor": 5
}
